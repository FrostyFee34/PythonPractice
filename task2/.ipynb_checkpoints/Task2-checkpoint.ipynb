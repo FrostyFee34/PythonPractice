{
 "cells": [
  {
   "cell_type": "code",
   "execution_count": 45,
   "id": "d40a0cb7",
   "metadata": {
    "scrolled": true
   },
   "outputs": [
    {
     "data": {
      "image/png": "[encoded data removed]",
      "text/plain": [
       "<Figure size 432x288 with 1 Axes>"
      ]
     },
     "metadata": {
      "needs_background": "light"
     },
     "output_type": "display_data"
    }
   ],
   "source": [
    "import matplotlib.pyplot as plt\n",
    "import cv2\n",
    "import numpy as np\n",
    "\n",
    "img = cv2.imread('lines2.jpg')\n",
    "img_gray = cv2.cvtColor(img, cv2.COLOR_BGR2GRAY)\n",
    "img_gray_blur = cv2.GaussianBlur(img_gray, (15, 15), 0)\n",
    "img_gray_blur_canny = cv2.Canny(img_gray_blur, 20, 100)\n",
    "\n",
    "## trapezoid mask \n",
    "pts_trapezoid = np.array([[0,360],[290,222],[315,222],[637,360]])\n",
    "mask = np.zeros(img_gray_blur_canny.shape[0:2], dtype=np.uint8)\n",
    "cv2.drawContours(mask, [pts_trapezoid], -1, (255, 255, 255), -1, cv2.LINE_AA)\n",
    "\n",
    "## apply mask and crop rectangle with it \n",
    "res = cv2.bitwise_and(img_gray_blur_canny,img_gray_blur_canny,mask = mask)\n",
    "\n",
    "## hough \n",
    "img_lines = np.zeros_like(img)\n",
    "linesP = cv2.HoughLinesP(res, 1, np.pi/180, 80, None, 50, 10)\n",
    "if linesP is not None:\n",
    "    for i in range(0, len(linesP)):\n",
    "        l = linesP[i][0]\n",
    "        cv2.line(img_lines, (l[0], l[1]), (l[2], l[3]), (0, 0, 255), 4, cv2.LINE_AA)\n",
    "\n",
    "        \n",
    "end_result = cv2.addWeighted(img, 0.8, img_lines, 1, 0)\n",
    "\n",
    "cv2.imwrite ('lines2_gray.png', img_gray)\n",
    "cv2.imwrite ('lines2_gray_blur.png', img_gray_blur)\n",
    "cv2.imwrite ('lines2_gray_blur_canny.png', img_gray_blur_canny)\n",
    "cv2.imwrite ('img_lines.png', img_lines)\n",
    "cv2.imwrite ('end_esult.png', end_result)\n",
    "plt.imshow(cropped, cmap='gray', vmin = 0, vmax = 255), plt.axis('off')\n",
    "plt.show()"
   ]
  },
  {
   "cell_type": "markdown",
   "id": "ca33c2b7",
   "metadata": {},
   "source": [
    "asdfas\n",
    "df\n",
    "sadf\n",
    "a\n",
    "sdf\n",
    "as\n",
    "df\n",
    "sa\n",
    "df\n",
    "asdf\n",
    "asdf"
   ]
  },
  {
   "cell_type": "code",
   "execution_count": 2,
   "id": "a77c9843",
   "metadata": {},
   "outputs": [
    {
     "ename": "NameError",
     "evalue": "name 'k' is not defined",
     "output_type": "error",
     "traceback": [
      "\u001b[1;31m---------------------------------------------------------------------------\u001b[0m",
      "\u001b[1;31mNameError\u001b[0m                                 Traceback (most recent call last)",
      "Input \u001b[1;32mIn [2]\u001b[0m, in \u001b[0;36m<cell line: 66>\u001b[1;34m()\u001b[0m\n\u001b[0;32m     63\u001b[0m fourcc \u001b[38;5;241m=\u001b[39m cv2\u001b[38;5;241m.\u001b[39mVideoWriter_fourcc(\u001b[38;5;241m*\u001b[39m\u001b[38;5;124m'\u001b[39m\u001b[38;5;124mMP4V\u001b[39m\u001b[38;5;124m'\u001b[39m)\n\u001b[0;32m     64\u001b[0m output \u001b[38;5;241m=\u001b[39m cv2\u001b[38;5;241m.\u001b[39mVideoWriter(\u001b[38;5;124m'\u001b[39m\u001b[38;5;124moutput.mp4\u001b[39m\u001b[38;5;124m'\u001b[39m, fourcc, fps, frame_size)\n\u001b[1;32m---> 66\u001b[0m \u001b[43mprocessVideo\u001b[49m\u001b[43m(\u001b[49m\u001b[43mcap\u001b[49m\u001b[43m,\u001b[49m\u001b[43m \u001b[49m\u001b[43moutput\u001b[49m\u001b[43m)\u001b[49m\n",
      "Input \u001b[1;32mIn [2]\u001b[0m, in \u001b[0;36mprocessVideo\u001b[1;34m(video_cap, video_out)\u001b[0m\n\u001b[0;32m     39\u001b[0m     k\u001b[38;5;241m+\u001b[39m\u001b[38;5;241m=\u001b[39m\u001b[38;5;241m1\u001b[39m\n\u001b[0;32m     40\u001b[0m     new_frame \u001b[38;5;241m=\u001b[39m transformImage(frame)\n\u001b[1;32m---> 41\u001b[0m     new_frame \u001b[38;5;241m=\u001b[39m \u001b[43mpost_process_image\u001b[49m\u001b[43m(\u001b[49m\u001b[43mnew_frame\u001b[49m\u001b[43m,\u001b[49m\u001b[43m \u001b[49m\u001b[43mframe\u001b[49m\u001b[43m,\u001b[49m\u001b[43m \u001b[49m\u001b[43mk\u001b[49m\u001b[43m)\u001b[49m\n\u001b[0;32m     42\u001b[0m     output\u001b[38;5;241m.\u001b[39mwrite(new_frame)\n\u001b[0;32m     44\u001b[0m \u001b[38;5;28;01melse\u001b[39;00m:\n",
      "Input \u001b[1;32mIn [2]\u001b[0m, in \u001b[0;36mpost_process_image\u001b[1;34m(img, old_img, fps)\u001b[0m\n\u001b[0;32m     50\u001b[0m y_offset \u001b[38;5;241m=\u001b[39m \u001b[38;5;241m520\u001b[39m\n\u001b[0;32m     51\u001b[0m img[y_offset:y_offset\u001b[38;5;241m+\u001b[39msmaller_img\u001b[38;5;241m.\u001b[39mshape[\u001b[38;5;241m0\u001b[39m], x_offset:x_offset\u001b[38;5;241m+\u001b[39msmaller_img\u001b[38;5;241m.\u001b[39mshape[\u001b[38;5;241m1\u001b[39m]] \u001b[38;5;241m=\u001b[39m smaller_img\n\u001b[1;32m---> 52\u001b[0m cv2\u001b[38;5;241m.\u001b[39mputText(img, \u001b[38;5;28mstr\u001b[39m(\u001b[43mk\u001b[49m), (\u001b[38;5;241m50\u001b[39m,\u001b[38;5;241m50\u001b[39m), cv2\u001b[38;5;241m.\u001b[39mFONT_HERSHEY_DUPLEX, \u001b[38;5;241m1\u001b[39m, (\u001b[38;5;241m255\u001b[39m, \u001b[38;5;241m255\u001b[39m, \u001b[38;5;241m255\u001b[39m), \u001b[38;5;241m1\u001b[39m)\n\u001b[0;32m     53\u001b[0m \u001b[38;5;28;01mreturn\u001b[39;00m img\n",
      "\u001b[1;31mNameError\u001b[0m: name 'k' is not defined"
     ]
    }
   ],
   "source": [
    "import cv2\n",
    "import numpy as np\n",
    "import imutils\n",
    "\n",
    "def transformImage(img):\n",
    "    img_pre_processed = preProcessImage(img)\n",
    "    end_result = processImage(img, img_pre_processed)\n",
    "    \n",
    "    return end_result\n",
    "    \n",
    "def preProcessImage(img):\n",
    "    img_gray = cv2.cvtColor(img, cv2.COLOR_BGR2GRAY)\n",
    "    img_gray_blur = cv2.GaussianBlur(img_gray, (15, 15), 0)\n",
    "    img_gray_blur_canny = cv2.Canny(img_gray_blur, 20, 100)\n",
    "    \n",
    "    pts = np.array([[0,717], [0,560], [610,430], [710,430], [1200, 717]])\n",
    "    mask = np.zeros(img_gray_blur_canny.shape[0:2], dtype=np.uint8)\n",
    "    cv2.drawContours(mask, [pts], -1, (255, 255, 255), -1, cv2.LINE_AA)\n",
    "  \n",
    "    res = cv2.bitwise_and(img_gray_blur_canny,img_gray_blur_canny,mask = mask)\n",
    "   \n",
    "    return res\n",
    "\n",
    "def processImage(img, pre_processed_img):\n",
    "    img_lines = np.zeros_like(img)\n",
    "    linesP = cv2.HoughLinesP(pre_processed_img, 1, np.pi/180, 80, None, 50, 10)\n",
    "    if linesP is not None:\n",
    "        for i in range(0, len(linesP)):\n",
    "            l = linesP[i][0]  \n",
    "            cv2.line(img_lines, (l[0], l[1]), (l[2], l[3]), (0, 0, 255), 4, cv2.LINE_AA)\n",
    "    end_result = cv2.addWeighted(img , 0.8, img_lines, 1, 0)\n",
    "    return end_result\n",
    "\n",
    "def processVideo(video_cap, video_out):\n",
    "    k = 0\n",
    "    while(video_cap.isOpened()):\n",
    "        ret, frame = video_cap.read()\n",
    "        if(ret == True):\n",
    "            k+=1\n",
    "            new_frame = transformImage(frame)\n",
    "            new_frame = post_process_image(new_frame, frame, k)\n",
    "            output.write(new_frame)\n",
    "\n",
    "        else:\n",
    "            cap.release()\n",
    "            \n",
    "def post_process_image(img, old_img, fps):\n",
    "    smaller_img = imutils.resize(old_img, height = 200)\n",
    "    x_offset = 925\n",
    "    y_offset = 520\n",
    "    img[y_offset:y_offset+smaller_img.shape[0], x_offset:x_offset+smaller_img.shape[1]] = smaller_img\n",
    "    cv2.putText(img, str(k), (50,50), cv2.FONT_HERSHEY_DUPLEX, 1, (255, 255, 255), 1)\n",
    "    return img\n",
    "\n",
    "cap = cv2.VideoCapture('roadvideo.mp4')\n",
    "if(cap.isOpened() == False):\n",
    "    print(\"Error opening video file \")\n",
    "    \n",
    "frame_width = int(cap.get(3))\n",
    "frame_height = int(cap.get(4))\n",
    "frame_size = (frame_width,frame_height)\n",
    "fps = 30\n",
    "fourcc = cv2.VideoWriter_fourcc(*'MP4V')\n",
    "output = cv2.VideoWriter('output.mp4', fourcc, fps, frame_size)\n",
    "\n",
    "processVideo(cap, output)"
   ]
  },
  {
   "cell_type": "code",
   "execution_count": null,
   "id": "4ab38264",
   "metadata": {},
   "outputs": [],
   "source": []
  },
  {
   "cell_type": "code",
   "execution_count": null,
   "id": "a4353dfb",
   "metadata": {},
   "outputs": [],
   "source": []
  }
 ],
 "metadata": {
  "kernelspec": {
   "display_name": "Python 3 (ipykernel)",
   "language": "python",
   "name": "python3"
  },
  "language_info": {
   "codemirror_mode": {
    "name": "ipython",
    "version": 3
   },
   "file_extension": ".py",
   "mimetype": "text/x-python",
   "name": "python",
   "nbconvert_exporter": "python",
   "pygments_lexer": "ipython3",
   "version": "3.9.1"
  }
 },
 "nbformat": 4,
 "nbformat_minor": 5
}
