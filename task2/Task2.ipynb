{
 "cells": [
  {
   "cell_type": "code",
   "execution_count": 1,
   "id": "a77c9843",
   "metadata": {},
   "outputs": [
    {
     "ename": "KeyboardInterrupt",
     "evalue": "",
     "output_type": "error",
     "traceback": [
      "\u001b[1;31m---------------------------------------------------------------------------\u001b[0m",
      "\u001b[1;31mKeyboardInterrupt\u001b[0m                         Traceback (most recent call last)",
      "Input \u001b[1;32mIn [1]\u001b[0m, in \u001b[0;36m<cell line: 64>\u001b[1;34m()\u001b[0m\n\u001b[0;32m     61\u001b[0m fourcc \u001b[38;5;241m=\u001b[39m cv2\u001b[38;5;241m.\u001b[39mVideoWriter_fourcc(\u001b[38;5;241m*\u001b[39m\u001b[38;5;124m'\u001b[39m\u001b[38;5;124mMP4V\u001b[39m\u001b[38;5;124m'\u001b[39m)\n\u001b[0;32m     62\u001b[0m output \u001b[38;5;241m=\u001b[39m cv2\u001b[38;5;241m.\u001b[39mVideoWriter(\u001b[38;5;124m'\u001b[39m\u001b[38;5;124moutput.mp4\u001b[39m\u001b[38;5;124m'\u001b[39m, fourcc, fps, frame_size)\n\u001b[1;32m---> 64\u001b[0m \u001b[43mprocessVideo\u001b[49m\u001b[43m(\u001b[49m\u001b[43mcap\u001b[49m\u001b[43m,\u001b[49m\u001b[43m \u001b[49m\u001b[43moutput\u001b[49m\u001b[43m)\u001b[49m\n",
      "Input \u001b[1;32mIn [1]\u001b[0m, in \u001b[0;36mprocessVideo\u001b[1;34m(video_cap, video_out)\u001b[0m\n\u001b[0;32m     38\u001b[0m     k\u001b[38;5;241m+\u001b[39m\u001b[38;5;241m=\u001b[39m\u001b[38;5;241m1\u001b[39m\n\u001b[0;32m     39\u001b[0m     new_frame \u001b[38;5;241m=\u001b[39m transformImage(frame)\n\u001b[1;32m---> 40\u001b[0m     new_frame \u001b[38;5;241m=\u001b[39m \u001b[43mpostProcessImage\u001b[49m\u001b[43m(\u001b[49m\u001b[43mnew_frame\u001b[49m\u001b[43m,\u001b[49m\u001b[43m \u001b[49m\u001b[43mframe\u001b[49m\u001b[43m,\u001b[49m\u001b[43m \u001b[49m\u001b[43mk\u001b[49m\u001b[43m)\u001b[49m\n\u001b[0;32m     41\u001b[0m     output\u001b[38;5;241m.\u001b[39mwrite(new_frame)\n\u001b[0;32m     42\u001b[0m \u001b[38;5;28;01melse\u001b[39;00m:\n",
      "Input \u001b[1;32mIn [1]\u001b[0m, in \u001b[0;36mpostProcessImage\u001b[1;34m(img, old_img, fps)\u001b[0m\n\u001b[0;32m     45\u001b[0m \u001b[38;5;28;01mdef\u001b[39;00m \u001b[38;5;21mpostProcessImage\u001b[39m(img, old_img, fps):\n\u001b[1;32m---> 46\u001b[0m     smaller_img \u001b[38;5;241m=\u001b[39m \u001b[43mimutils\u001b[49m\u001b[38;5;241;43m.\u001b[39;49m\u001b[43mresize\u001b[49m\u001b[43m(\u001b[49m\u001b[43mold_img\u001b[49m\u001b[43m,\u001b[49m\u001b[43m \u001b[49m\u001b[43mheight\u001b[49m\u001b[43m \u001b[49m\u001b[38;5;241;43m=\u001b[39;49m\u001b[43m \u001b[49m\u001b[38;5;241;43m200\u001b[39;49m\u001b[43m)\u001b[49m\n\u001b[0;32m     47\u001b[0m     x_offset \u001b[38;5;241m=\u001b[39m \u001b[38;5;241m925\u001b[39m\n\u001b[0;32m     48\u001b[0m     y_offset \u001b[38;5;241m=\u001b[39m \u001b[38;5;241m520\u001b[39m\n",
      "File \u001b[1;32mc:\\users\\aloha\\appdata\\local\\programs\\python\\python39\\lib\\site-packages\\imutils\\convenience.py:91\u001b[0m, in \u001b[0;36mresize\u001b[1;34m(image, width, height, inter)\u001b[0m\n\u001b[0;32m     88\u001b[0m     dim \u001b[38;5;241m=\u001b[39m (width, \u001b[38;5;28mint\u001b[39m(h \u001b[38;5;241m*\u001b[39m r))\n\u001b[0;32m     90\u001b[0m \u001b[38;5;66;03m# resize the image\u001b[39;00m\n\u001b[1;32m---> 91\u001b[0m resized \u001b[38;5;241m=\u001b[39m \u001b[43mcv2\u001b[49m\u001b[38;5;241;43m.\u001b[39;49m\u001b[43mresize\u001b[49m\u001b[43m(\u001b[49m\u001b[43mimage\u001b[49m\u001b[43m,\u001b[49m\u001b[43m \u001b[49m\u001b[43mdim\u001b[49m\u001b[43m,\u001b[49m\u001b[43m \u001b[49m\u001b[43minterpolation\u001b[49m\u001b[38;5;241;43m=\u001b[39;49m\u001b[43minter\u001b[49m\u001b[43m)\u001b[49m\n\u001b[0;32m     93\u001b[0m \u001b[38;5;66;03m# return the resized image\u001b[39;00m\n\u001b[0;32m     94\u001b[0m \u001b[38;5;28;01mreturn\u001b[39;00m resized\n",
      "\u001b[1;31mKeyboardInterrupt\u001b[0m: "
     ]
    }
   ],
   "source": [
    "import cv2\n",
    "import numpy as np\n",
    "import imutils\n",
    "\n",
    "def transformImage(img):\n",
    "    img_pre_processed = preProcessImage(img)\n",
    "    end_result = processImage(img, img_pre_processed)\n",
    "    return end_result\n",
    "    \n",
    "def preProcessImage(img):\n",
    "    img_gray = cv2.cvtColor(img, cv2.COLOR_BGR2GRAY)\n",
    "    img_gray_blur = cv2.GaussianBlur(img_gray, (15, 15), 0)\n",
    "    img_gray_blur_canny = cv2.Canny(img_gray_blur, 20, 100)\n",
    "    \n",
    "    pts = np.array([[0,717], [0,560], [610,430], [710,430], [1200, 717]])\n",
    "    mask = np.zeros(img_gray_blur_canny.shape[0:2], dtype=np.uint8)\n",
    "    cv2.drawContours(mask, [pts], -1, (255, 255, 255), -1, cv2.LINE_AA)\n",
    "  \n",
    "    res = cv2.bitwise_and(img_gray_blur_canny,img_gray_blur_canny,mask = mask)\n",
    "   \n",
    "    return res\n",
    "\n",
    "def processImage(img, pre_processed_img):\n",
    "    img_lines = np.zeros_like(img)\n",
    "    linesP = cv2.HoughLinesP(pre_processed_img, 1, np.pi/180, 100, None, 50, 10)\n",
    "    if linesP is not None:\n",
    "        for i in range(0, len(linesP)):\n",
    "            l = linesP[i][0]  \n",
    "            cv2.line(img_lines, (l[0], l[1]), (l[2], l[3]), (0, 0, 255), 4, cv2.LINE_AA)\n",
    "    end_result = cv2.addWeighted(img , 0.8, img_lines, 1, 0)\n",
    "    return end_result\n",
    "\n",
    "def processVideo(video_cap, video_out):\n",
    "    k = 0\n",
    "    while(video_cap.isOpened()):\n",
    "        ret, frame = video_cap.read()\n",
    "        if(ret == True):\n",
    "            k+=1\n",
    "            new_frame = transformImage(frame)\n",
    "            new_frame = postProcessImage(new_frame, frame, k)\n",
    "            output.write(new_frame)\n",
    "        else:\n",
    "            cap.release()\n",
    "            \n",
    "def postProcessImage(img, old_img, fps):\n",
    "    smaller_img = imutils.resize(old_img, height = 200)\n",
    "    x_offset = 925\n",
    "    y_offset = 520\n",
    "    img[y_offset:y_offset+smaller_img.shape[0], x_offset:x_offset+smaller_img.shape[1]] = smaller_img\n",
    "    cv2.putText(img, str(fps), (50,50), cv2.FONT_HERSHEY_DUPLEX, 1, (255, 255, 255), 1)\n",
    "    return img\n",
    "\n",
    "cap = cv2.VideoCapture('roadvideo.mp4')\n",
    "if(cap.isOpened() == False):\n",
    "    print(\"Error opening video file \")\n",
    "    \n",
    "frame_width = int(cap.get(3))\n",
    "frame_height = int(cap.get(4))\n",
    "frame_size = (frame_width,frame_height)\n",
    "fps = 30\n",
    "fourcc = cv2.VideoWriter_fourcc(*'MP4V')\n",
    "output = cv2.VideoWriter('output.mp4', fourcc, fps, frame_size)\n",
    "\n",
    "processVideo(cap, output)"
   ]
  },
  {
   "cell_type": "code",
   "execution_count": null,
   "id": "0a0ab3eb",
   "metadata": {},
   "outputs": [],
   "source": []
  }
 ],
 "metadata": {
  "kernelspec": {
   "display_name": "Python 3 (ipykernel)",
   "language": "python",
   "name": "python3"
  },
  "language_info": {
   "codemirror_mode": {
    "name": "ipython",
    "version": 3
   },
   "file_extension": ".py",
   "mimetype": "text/x-python",
   "name": "python",
   "nbconvert_exporter": "python",
   "pygments_lexer": "ipython3",
   "version": "3.9.0"
  }
 },
 "nbformat": 4,
 "nbformat_minor": 5
}
