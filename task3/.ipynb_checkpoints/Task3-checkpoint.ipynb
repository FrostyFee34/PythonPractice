{
 "cells": [
  {
   "cell_type": "code",
   "execution_count": 1,
   "id": "6ceeb1ac",
   "metadata": {},
   "outputs": [
    {
     "data": {
      "text/plain": [
       "-1"
      ]
     },
     "execution_count": 1,
     "metadata": {},
     "output_type": "execute_result"
    }
   ],
   "source": [
    "import cv2\n",
    "import os\n",
    "\n",
    "face_cascade = cv2.CascadeClassifier('cascades\\haarcascade_frontalface_alt.xml')\n",
    "eye_cascade = cv2.CascadeClassifier('cascades\\haarcascade_eye.xml')\n",
    "\n",
    "frame = cv2.imread('group_of_people.jpg')\n",
    "face_rects = face_cascade.detectMultiScale(frame, scaleFactor = 1.3, minNeighbors = 1)\n",
    "for(x,y,w,h) in face_rects:\n",
    "    cv2.rectangle(frame, (x,y),(x+w, y+h), (0, 255, 0), 3)   \n",
    "\n",
    "cv2.imshow('Input', frame)\n",
    "cv2.waitKey()"
   ]
  },
  {
   "cell_type": "code",
   "execution_count": null,
   "id": "898fd726",
   "metadata": {},
   "outputs": [],
   "source": []
  }
 ],
 "metadata": {
  "kernelspec": {
   "display_name": "Python 3 (ipykernel)",
   "language": "python",
   "name": "python3"
  },
  "language_info": {
   "codemirror_mode": {
    "name": "ipython",
    "version": 3
   },
   "file_extension": ".py",
   "mimetype": "text/x-python",
   "name": "python",
   "nbconvert_exporter": "python",
   "pygments_lexer": "ipython3",
   "version": "3.9.1"
  }
 },
 "nbformat": 4,
 "nbformat_minor": 5
}
