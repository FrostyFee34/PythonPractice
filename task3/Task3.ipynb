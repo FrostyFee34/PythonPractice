{
 "cells": [
  {
   "cell_type": "code",
   "execution_count": 3,
   "id": "6ceeb1ac",
   "metadata": {},
   "outputs": [
    {
     "data": {
      "text/plain": [
       "-1"
      ]
     },
     "execution_count": 3,
     "metadata": {},
     "output_type": "execute_result"
    }
   ],
   "source": [
    "import cv2\n",
    "import os\n",
    "\n",
    "def addRectangles(frame, rects, color = (0, 255, 0), thickness = 1 ):\n",
    "    for(x,y,w,h) in rects:\n",
    "        cv2.rectangle(frame, (x,y),(x+w, y+h), color, thickness)   \n",
    "def detectFacialFeatures(frame):\n",
    "    face_cascade = cv2.CascadeClassifier('cascades\\haarcascade_frontalface_alt.xml')\n",
    "    eye_cascade = cv2.CascadeClassifier('cascades\\haarcascade_eye.xml')\n",
    "    nose_cascade = cv2.CascadeClassifier('cascades\\haarcascade_mcs_nose.xml')\n",
    "    right_ear_cascade = cv2.CascadeClassifier('cascades\\haarcascade_mcs_rightear.xml')\n",
    "    left_ear_cascade = cv2.CascadeClassifier('cascades\\haarcascade_mcs_leftear.xml')\n",
    "    smile_cascade = cv2.CascadeClassifier('cascades\\haarcascade_smile.xml')\n",
    "    \n",
    "    face_rects = face_cascade.detectMultiScale(frame, scaleFactor = 1.3, minNeighbors = 7)\n",
    "    eye_rects = eye_cascade.detectMultiScale(frame, scaleFactor = 1.3, minNeighbors = 7)\n",
    "    nose_rects = nose_cascade.detectMultiScale(frame, scaleFactor = 1.3, minNeighbors = 15)\n",
    "    right_ear_rects = right_ear_cascade.detectMultiScale(frame, scaleFactor = 1.1, minNeighbors = 1)\n",
    "    left_ear_rects = left_ear_cascade.detectMultiScale(frame, scaleFactor = 1.1, minNeighbors = 1)\n",
    "    smile_rects = smile_cascade.detectMultiScale(frame, scaleFactor = 1.3, minNeighbors = 35)\n",
    "   \n",
    "    addRectangles(frame, face_rects)\n",
    "    addRectangles(frame, eye_rects, (255, 0, 0))\n",
    "    addRectangles(frame, nose_rects, (0, 0, 255))\n",
    "    addRectangles(frame, right_ear_rects, (255, 0, 255))\n",
    "    addRectangles(frame, left_ear_rects, (255, 0, 255))\n",
    "    addRectangles(frame, smile_rects, (0, 255, 235))\n",
    "    \n",
    "    number_of_people = face_rects.shape[0]\n",
    "    cv2.putText(frame,'Number of people: ' + str(number_of_people), (10,25), cv2.FONT_HERSHEY_DUPLEX, 1, (0, 0, 0), 2)\n",
    "    cv2.putText(frame, 'Number of people: ' + str(number_of_people), (10,25), cv2.FONT_HERSHEY_DUPLEX, 1, (255, 255, 255), 1)\n",
    "\n",
    "frame = cv2.imread('group_of_people.jpg')\n",
    "detectFacialFeatures(frame)\n",
    "\n",
    "cv2.imwrite('group_of_people_result.jpg', frame)       \n",
    "cv2.waitKey()"
   ]
  },
  {
   "cell_type": "code",
   "execution_count": null,
   "id": "f0d1a3b2",
   "metadata": {},
   "outputs": [],
   "source": [
    "import cv2\n",
    "\n",
    "def addRectangles(frame, rects, color = (0, 255, 0), thickness = 1 ):\n",
    "    for(x,y,w,h) in rects:\n",
    "        cv2.rectangle(frame, (x,y),(x+w, y+h), color, thickness)   \n",
    "\n",
    "face_cascade = cv2.CascadeClassifier('cascades\\haarcascade_frontalface_alt.xml')     \n",
    "\n",
    "cap = cv2.VideoCapture(0)\n",
    "\n",
    "frame_width = 640\n",
    "frame_height = 480\n",
    "frame_size = (frame_width,frame_height)\n",
    "fps = 30\n",
    "fourcc = cv2.VideoWriter_fourcc(*'MP4V')\n",
    "output = cv2.VideoWriter('output.mp4', fourcc, fps, frame_size)\n",
    "\n",
    "while True:\n",
    "    ret,frame = cap.read()\n",
    "    face_rects = face_cascade.detectMultiScale(frame, scaleFactor = 1.3, minNeighbors = 7)\n",
    "    addRectangles(frame, face_rects)\n",
    "    cv2.imshow('Live',frame)\n",
    "    output.write(frame)\n",
    "    \n",
    "    if cv2.waitKey(1)==13:\n",
    "        cap.release()\n",
    "        output.release()\n",
    "        cv2.destroyAllWindows()\n",
    "        break\n",
    "\n"
   ]
  },
  {
   "cell_type": "code",
   "execution_count": 6,
   "id": "f344a5d0",
   "metadata": {},
   "outputs": [],
   "source": [
    "import cv2\n",
    "import numpy as np\n",
    "def addRectangles(frame, rects, color = (0, 255, 0), thickness = 1 ):\n",
    "    for(x,y,w,h) in rects:\n",
    "        cv2.rectangle(frame, (x,y),(x+w, y+h), color, thickness)   \n",
    "\n",
    "face_cascade = cv2.CascadeClassifier('cascades\\haarcascade_frontalface_alt.xml')     \n",
    "hog = cv2.HOGDescriptor()\n",
    "hog.setSVMDetector(cv2.HOGDescriptor_getDefaultPeopleDetector())\n",
    "output = cv2.VideoWriter('people_output.mp4', cv2.VideoWriter_fourcc(*'MP4V'), 30, (1280, 720))\n",
    "cap = cv2.VideoCapture('people.mp4')\n",
    "\n",
    "while(cap.isOpened()):\n",
    "    ret, frame = cap.read()\n",
    "    if(ret == True):\n",
    "        face_rects = face_cascade.detectMultiScale(frame, scaleFactor = 1.3, minNeighbors = 3)\n",
    "        full_body_rects = hog.detectMultiScale(frame, winStride = (8,8), padding=(32,32), scale = 1.05)\n",
    "        addRectangles(frame, face_rects, (255, 0, 0))\n",
    "        addRectangles(frame, full_body_rects[0])\n",
    "        output.write(frame)\n",
    "    else:\n",
    "        output.release()\n",
    "        cap.release()"
   ]
  },
  {
   "cell_type": "code",
   "execution_count": 7,
   "id": "0915eb34",
   "metadata": {},
   "outputs": [],
   "source": [
    "import dlib"
   ]
  },
  {
   "cell_type": "code",
   "execution_count": null,
   "id": "fe87d53a",
   "metadata": {},
   "outputs": [],
   "source": []
  }
 ],
 "metadata": {
  "kernelspec": {
   "display_name": "Python 3 (ipykernel)",
   "language": "python",
   "name": "python3"
  },
  "language_info": {
   "codemirror_mode": {
    "name": "ipython",
    "version": 3
   },
   "file_extension": ".py",
   "mimetype": "text/x-python",
   "name": "python",
   "nbconvert_exporter": "python",
   "pygments_lexer": "ipython3",
   "version": "3.9.0"
  }
 },
 "nbformat": 4,
 "nbformat_minor": 5
}
